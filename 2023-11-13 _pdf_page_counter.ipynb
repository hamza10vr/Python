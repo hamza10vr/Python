{
 "cells": [
  {
   "cell_type": "markdown",
   "metadata": {},
   "source": [
    "<h1>The code tallies the total number of pages across all PDF files in a given directory."
   ]
  },
  {
   "cell_type": "code",
   "execution_count": 10,
   "metadata": {},
   "outputs": [
    {
     "name": "stdout",
     "output_type": "stream",
     "text": [
      "Number of files in directory => 10 \n",
      "\n",
      "WorkOrder0016-R.pdf 1937 Pages\n",
      "WorkOrder0017-R.pdf 1415 Pages\n",
      "WorkOrder0018-R.pdf 2362 Pages\n",
      "WorkOrder0019-R.pdf 2079 Pages\n",
      "WorkOrder0020-R.pdf 2202 Pages\n",
      "WorkOrder0021-R.pdf 2226 Pages\n",
      "WorkOrder0022-R.pdf 1345 Pages\n",
      "WorkOrder0023-R.pdf 2237 Pages\n",
      "WorkOrder0024-Reverse.pdf 1203 Pages\n",
      "WorkOrder0025-Reverse.pdf 2138 Pages\n",
      "\n",
      "Total pages = 19144 Pages\n"
     ]
    }
   ],
   "source": [
    "import fitz\n",
    "from os import chdir\n",
    "from glob import glob as glob\n",
    "\n",
    "\n",
    "\n",
    "directory = r'C:\\Users\\hamzat\\Desktop\\pdfFiles'\n",
    "chdir(directory)\n",
    "\n",
    "pdf_list = glob('*.pdf')\n",
    "print(f'Number of files in directory => {str(len(pdf_list))} \\n')\n",
    "page_count = 0\n",
    "\n",
    "for pdf in pdf_list:\n",
    "\n",
    "    doc = fitz.open(pdf)\n",
    "    page_count += doc.page_count\n",
    "    # print(f'{doc.name} = {doc.page_count}')\n",
    "    \n",
    "    print(f'{doc.name} {doc.page_count} Pages')\n",
    "    doc.close()\n",
    "    \n",
    "\n",
    "\n",
    "print(f'\\nTotal pages = {str(page_count)} Pages' )\n"
   ]
  },
  {
   "cell_type": "code",
   "execution_count": null,
   "metadata": {},
   "outputs": [],
   "source": []
  }
 ],
 "metadata": {
  "kernelspec": {
   "display_name": "base",
   "language": "python",
   "name": "python3"
  },
  "language_info": {
   "codemirror_mode": {
    "name": "ipython",
    "version": 3
   },
   "file_extension": ".py",
   "mimetype": "text/x-python",
   "name": "python",
   "nbconvert_exporter": "python",
   "pygments_lexer": "ipython3",
   "version": "3.11.5"
  }
 },
 "nbformat": 4,
 "nbformat_minor": 2
}
