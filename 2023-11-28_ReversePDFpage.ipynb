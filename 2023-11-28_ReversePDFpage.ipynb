{
 "cells": [
  {
   "cell_type": "code",
   "execution_count": 15,
   "metadata": {},
   "outputs": [],
   "source": [
    "import pikepdf\n",
    "\n",
    "WONum=\"WorkOrder0007\" \n",
    "ext= \".pdf\"\n",
    "file_name = WONum+ext\n",
    "old_pdf = pikepdf.Pdf.open(file_name)\n",
    "\n",
    "old_pdf.pages.reverse()\n",
    "old_pdf.save(f'{WONum}-Reverse{ext}')"
   ]
  },
  {
   "cell_type": "code",
   "execution_count": 14,
   "metadata": {},
   "outputs": [
    {
     "name": "stdout",
     "output_type": "stream",
     "text": [
      "WorkOrder0007.pdf\n"
     ]
    }
   ],
   "source": [
    "WONum=\"WorkOrder0007\" \n",
    "ext= \".pdf\"\n",
    "file_name = WONum+ext\n",
    "print(file_name)"
   ]
  },
  {
   "cell_type": "code",
   "execution_count": 5,
   "metadata": {},
   "outputs": [
    {
     "name": "stdout",
     "output_type": "stream",
     "text": [
      "Number of files in directory 75\n",
      "<class 'list'>\n",
      "WorkOrder0031.pdf reversed\n",
      "WorkOrder0032.pdf reversed\n",
      "WorkOrder0033.pdf reversed\n",
      "WorkOrder0034.pdf reversed\n",
      "WorkOrder0035.pdf reversed\n",
      "WorkOrder0036.pdf reversed\n",
      "WorkOrder0037.pdf reversed\n",
      "WorkOrder0038.pdf reversed\n",
      "WorkOrder0039.pdf reversed\n",
      "WorkOrder0040.pdf reversed\n",
      "WorkOrder0041.pdf reversed\n",
      "WorkOrder0042.pdf reversed\n",
      "WorkOrder0043.pdf reversed\n",
      "WorkOrder0044.pdf reversed\n",
      "WorkOrder0045.pdf reversed\n",
      "WorkOrder0046.pdf reversed\n",
      "WorkOrder0047.pdf reversed\n",
      "WorkOrder0048.pdf reversed\n",
      "WorkOrder0049.pdf reversed\n",
      "WorkOrder0050.pdf reversed\n",
      "WorkOrder0051.pdf reversed\n",
      "WorkOrder0052.pdf reversed\n",
      "WorkOrder0053.pdf reversed\n",
      "WorkOrder0054.pdf reversed\n",
      "WorkOrder0055.pdf reversed\n",
      "WorkOrder0056.pdf reversed\n",
      "WorkOrder0057.pdf reversed\n",
      "WorkOrder0058.pdf reversed\n",
      "WorkOrder0059.pdf reversed\n",
      "WorkOrder0060.pdf reversed\n",
      "WorkOrder0061.pdf reversed\n",
      "WorkOrder0062.pdf reversed\n",
      "WorkOrder0063.pdf reversed\n",
      "WorkOrder0064.pdf reversed\n",
      "WorkOrder0065.pdf reversed\n",
      "WorkOrder0066.pdf reversed\n",
      "WorkOrder0067.pdf reversed\n",
      "WorkOrder0068.pdf reversed\n",
      "WorkOrder0069.pdf reversed\n",
      "WorkOrder0070.pdf reversed\n",
      "WorkOrder0071.pdf reversed\n",
      "WorkOrder0072.pdf reversed\n",
      "WorkOrder0073.pdf reversed\n",
      "WorkOrder0074.pdf reversed\n",
      "WorkOrder0075.pdf reversed\n",
      "WorkOrder0076.pdf reversed\n",
      "WorkOrder0077.pdf reversed\n",
      "WorkOrder0078.pdf reversed\n",
      "WorkOrder0079.pdf reversed\n",
      "WorkOrder0080.pdf reversed\n",
      "WorkOrder0081.pdf reversed\n",
      "WorkOrder0082.pdf reversed\n",
      "WorkOrder0083.pdf reversed\n",
      "WorkOrder0084.pdf reversed\n",
      "WorkOrder0085.pdf reversed\n",
      "WorkOrder0086.pdf reversed\n",
      "WorkOrder0087.pdf reversed\n",
      "WorkOrder0088.pdf reversed\n",
      "WorkOrder0089.pdf reversed\n",
      "WorkOrder0090.pdf reversed\n",
      "WorkOrder0091.pdf reversed\n",
      "WorkOrder0092.pdf reversed\n",
      "WorkOrder0093.pdf reversed\n",
      "WorkOrder0094.pdf reversed\n",
      "WorkOrder0095.pdf reversed\n",
      "WorkOrder0096.pdf reversed\n",
      "WorkOrder0097.pdf reversed\n",
      "WorkOrder0098.pdf reversed\n",
      "WorkOrder0099.pdf reversed\n",
      "WorkOrder0100.pdf reversed\n",
      "WorkOrder0101.pdf reversed\n",
      "WorkOrder0102.pdf reversed\n",
      "WorkOrder0103.pdf reversed\n",
      "WorkOrder0104.pdf reversed\n",
      "WorkOrder0105.pdf reversed\n"
     ]
    }
   ],
   "source": [
    "from os import chdir\n",
    "from glob import glob as glob\n",
    "import pikepdf\n",
    "import fitz\n",
    "\n",
    "directory = r'C:\\Users\\hamzat\\Desktop\\Reverse-files'\n",
    "chdir(directory)\n",
    "\n",
    "#Grabs all the files from the direcotry that end with .pdf \n",
    "pdf_list = glob('*.pdf')\n",
    "print(f'Number of files in directory ' + str(len(pdf_list)))\n",
    "page_count = 0\n",
    "print(type(pdf_list))\n",
    "\n",
    "for pdf in pdf_list:\n",
    "    doc = fitz.open(pdf)\n",
    "    file_name = doc.name\n",
    "    doc.close()\n",
    "    WONum = file_name[:-4]\n",
    "    # print(WONum)\n",
    "\n",
    "    ext= \".pdf\"\n",
    "    file_name = WONum+ext\n",
    "    old_pdf = pikepdf.Pdf.open(file_name)\n",
    "\n",
    "    old_pdf.pages.reverse()\n",
    "    old_pdf.save(f'{WONum}-Reverse{ext}')\n",
    "\n",
    "    \n",
    "    old_pdf.close()\n",
    "    print(f'{file_name} reversed')\n",
    "\n",
    "\n"
   ]
  },
  {
   "cell_type": "code",
   "execution_count": null,
   "metadata": {},
   "outputs": [],
   "source": []
  }
 ],
 "metadata": {
  "kernelspec": {
   "display_name": "base",
   "language": "python",
   "name": "python3"
  },
  "language_info": {
   "codemirror_mode": {
    "name": "ipython",
    "version": 3
   },
   "file_extension": ".py",
   "mimetype": "text/x-python",
   "name": "python",
   "nbconvert_exporter": "python",
   "pygments_lexer": "ipython3",
   "version": "3.11.5"
  }
 },
 "nbformat": 4,
 "nbformat_minor": 2
}
